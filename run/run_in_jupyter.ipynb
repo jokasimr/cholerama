{
 "cells": [
  {
   "cell_type": "markdown",
   "id": "5a130a2e-24d7-4578-b068-5182db281ba4",
   "metadata": {},
   "source": [
    "# Cholerama"
   ]
  },
  {
   "cell_type": "code",
   "execution_count": null,
   "id": "6ae93037-a322-43c7-a727-4b33fe13c059",
   "metadata": {},
   "outputs": [],
   "source": [
    "%matplotlib widget\n",
    "import cholerama as ch\n",
    "import germ_bot"
   ]
  },
  {
   "cell_type": "code",
   "execution_count": null,
   "id": "c9462b2f-f825-4659-b6f3-9f162c2831e6",
   "metadata": {},
   "outputs": [],
   "source": [
    "bots = {germ_bot.AUTHOR: germ_bot}\n",
    "for i in range(4):\n",
    "    bots[f\"germ{i}\"] = germ_bot\n",
    "\n",
    "results = ch.headless(\n",
    "    bots=bots,  # Dict of bots to use\n",
    "    iterations=1000,  # Number of iterations to run\n",
    ")"
   ]
  },
  {
   "cell_type": "markdown",
   "id": "ca3df9fa-f4db-4b85-afc7-44f535f9ada5",
   "metadata": {},
   "source": [
    "## Visualize the results"
   ]
  },
  {
   "cell_type": "code",
   "execution_count": null,
   "id": "a44e1ab9-d1c3-4408-8764-2364d85e504a",
   "metadata": {},
   "outputs": [],
   "source": [
    "ch.plot(**results)"
   ]
  },
  {
   "cell_type": "markdown",
   "id": "3a55640e-ed90-4a7f-98a8-2d27d10cbbef",
   "metadata": {},
   "source": [
    "## Load the data from file"
   ]
  },
  {
   "cell_type": "code",
   "execution_count": null,
   "id": "d64eb6d1-f51d-49da-8ef2-45ef0187f26a",
   "metadata": {},
   "outputs": [],
   "source": [
    "# If no filename is given, it will load the latest result\n",
    "data = ch.load()\n",
    "\n",
    "# Plot the data\n",
    "ch.plot(**data)"
   ]
  }
 ],
 "metadata": {
  "kernelspec": {
   "display_name": "Python 3 (ipykernel)",
   "language": "python",
   "name": "python3"
  },
  "language_info": {
   "codemirror_mode": {
    "name": "ipython",
    "version": 3
   },
   "file_extension": ".py",
   "mimetype": "text/x-python",
   "name": "python",
   "nbconvert_exporter": "python",
   "pygments_lexer": "ipython3",
   "version": "3.10.12"
  }
 },
 "nbformat": 4,
 "nbformat_minor": 5
}
