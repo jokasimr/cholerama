{
 "cells": [
  {
   "cell_type": "markdown",
   "id": "5a130a2e-24d7-4578-b068-5182db281ba4",
   "metadata": {},
   "source": [
    "# Cholerama"
   ]
  },
  {
   "cell_type": "code",
   "execution_count": null,
   "id": "6ae93037-a322-43c7-a727-4b33fe13c059",
   "metadata": {},
   "outputs": [],
   "source": [
    "import cholerama as ch\n",
    "import germ_bot"
   ]
  },
  {
   "cell_type": "code",
   "execution_count": null,
   "id": "c9462b2f-f825-4659-b6f3-9f162c2831e6",
   "metadata": {},
   "outputs": [],
   "source": [
    "bots = {germ_bot.AUTHOR: germ_bot}\n",
    "\n",
    "results = ch.headless(\n",
    "    bots=bots,  # List of bots to use\n",
    "    iterations=400,  # Number of iterations to run\n",
    "    plot_results=False,  # Save a figure of the results\n",
    "    nthreads=8,\n",
    ")"
   ]
  },
  {
   "cell_type": "code",
   "execution_count": null,
   "id": "901f8907-f416-4529-91e8-aa275c923ae0",
   "metadata": {},
   "outputs": [],
   "source": [
    "results"
   ]
  },
  {
   "cell_type": "code",
   "execution_count": null,
   "id": "c171903f-7d5c-4c94-8e7e-dd014fe82a19",
   "metadata": {},
   "outputs": [],
   "source": []
  },
  {
   "cell_type": "code",
   "execution_count": null,
   "id": "9ec6bbad-522b-4ae7-a7e7-0d240446b87c",
   "metadata": {},
   "outputs": [],
   "source": []
  },
  {
   "cell_type": "markdown",
   "id": "ca3df9fa-f4db-4b85-afc7-44f535f9ada5",
   "metadata": {},
   "source": [
    "## Visualize the results from a run"
   ]
  },
  {
   "cell_type": "code",
   "execution_count": null,
   "id": "deda1d73-c490-4fdc-9986-25cdb33da5ac",
   "metadata": {},
   "outputs": [],
   "source": [
    "%matplotlib widget\n",
    "import cholerama as ch"
   ]
  },
  {
   "cell_type": "markdown",
   "id": "3a55640e-ed90-4a7f-98a8-2d27d10cbbef",
   "metadata": {},
   "source": [
    "### Load the data"
   ]
  },
  {
   "cell_type": "code",
   "execution_count": null,
   "id": "d64eb6d1-f51d-49da-8ef2-45ef0187f26a",
   "metadata": {},
   "outputs": [],
   "source": [
    "# If no filename is given, it will load the latest result\n",
    "data = ch.load()\n",
    "data"
   ]
  },
  {
   "cell_type": "markdown",
   "id": "8e7f5343-ecc8-4707-a746-b013ba6dfdc7",
   "metadata": {},
   "source": [
    "### Plot the data"
   ]
  },
  {
   "cell_type": "code",
   "execution_count": null,
   "id": "aec01313-a0ef-4922-b7ff-cd3ac8c09625",
   "metadata": {},
   "outputs": [],
   "source": [
    "ch.plot(**data)"
   ]
  }
 ],
 "metadata": {
  "kernelspec": {
   "display_name": "Python 3 (ipykernel)",
   "language": "python",
   "name": "python3"
  },
  "language_info": {
   "codemirror_mode": {
    "name": "ipython",
    "version": 3
   },
   "file_extension": ".py",
   "mimetype": "text/x-python",
   "name": "python",
   "nbconvert_exporter": "python",
   "pygments_lexer": "ipython3",
   "version": "3.10.12"
  }
 },
 "nbformat": 4,
 "nbformat_minor": 5
}
